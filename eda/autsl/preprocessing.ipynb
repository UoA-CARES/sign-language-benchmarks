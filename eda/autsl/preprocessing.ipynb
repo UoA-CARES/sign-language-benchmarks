{
 "cells": [
  {
   "cell_type": "markdown",
   "id": "67eaed77",
   "metadata": {},
   "source": [
    "## Imports"
   ]
  },
  {
   "cell_type": "code",
   "execution_count": 46,
   "id": "cd12de93",
   "metadata": {},
   "outputs": [],
   "source": [
    "import pandas as pd\n",
    "import numpy as np\n",
    "import csv"
   ]
  },
  {
   "cell_type": "markdown",
   "id": "010518df",
   "metadata": {},
   "source": [
    "## Check the structure of the file"
   ]
  },
  {
   "cell_type": "code",
   "execution_count": 47,
   "id": "72f31c9e",
   "metadata": {},
   "outputs": [],
   "source": [
    "with open('autsl_annotations.txt') as fin:\n",
    "    x = fin.readline()"
   ]
  },
  {
   "cell_type": "code",
   "execution_count": 48,
   "id": "23e8e37e",
   "metadata": {},
   "outputs": [
    {
     "data": {
      "text/plain": [
       "'test/signer34_sample1_color 63 133\\n'"
      ]
     },
     "execution_count": 48,
     "metadata": {},
     "output_type": "execute_result"
    }
   ],
   "source": [
    "x"
   ]
  },
  {
   "cell_type": "code",
   "execution_count": 49,
   "id": "b8544359",
   "metadata": {},
   "outputs": [
    {
     "data": {
      "text/plain": [
       "'test/signer34_sample1_color 63 133'"
      ]
     },
     "execution_count": 49,
     "metadata": {},
     "output_type": "execute_result"
    }
   ],
   "source": [
    "x.strip()"
   ]
  },
  {
   "cell_type": "code",
   "execution_count": 50,
   "id": "f67b0d6b",
   "metadata": {},
   "outputs": [
    {
     "data": {
      "text/plain": [
       "['test', 'signer34_sample1_color 63 133']"
      ]
     },
     "execution_count": 50,
     "metadata": {},
     "output_type": "execute_result"
    }
   ],
   "source": [
    "x.strip().split('/')"
   ]
  },
  {
   "cell_type": "code",
   "execution_count": 51,
   "id": "3d68277d",
   "metadata": {},
   "outputs": [
    {
     "data": {
      "text/plain": [
       "['signer34_sample1_color', '63', '133']"
      ]
     },
     "execution_count": 51,
     "metadata": {},
     "output_type": "execute_result"
    }
   ],
   "source": [
    "x.strip().split('/')[1].split()"
   ]
  },
  {
   "cell_type": "code",
   "execution_count": 52,
   "id": "c79ded93",
   "metadata": {},
   "outputs": [
    {
     "data": {
      "text/plain": [
       "['signer34', 'sample1', 'color']"
      ]
     },
     "execution_count": 52,
     "metadata": {},
     "output_type": "execute_result"
    }
   ],
   "source": [
    "x.strip().split('/')[1].split()[0].split('_')"
   ]
  },
  {
   "cell_type": "code",
   "execution_count": 64,
   "id": "c0188cd2",
   "metadata": {},
   "outputs": [],
   "source": [
    "line =  x"
   ]
  },
  {
   "cell_type": "code",
   "execution_count": 65,
   "id": "dad441af",
   "metadata": {},
   "outputs": [],
   "source": [
    "line = line.strip().split('/')\n",
    "split = line[0]\n",
    "line = line[1].split()\n",
    "video_id = line[0]\n",
    "frames = line[1]\n",
    "class_id = line[2]\n",
    "line =line[0].split('_')\n",
    "signer_id = line[0][6:]"
   ]
  },
  {
   "cell_type": "code",
   "execution_count": 66,
   "id": "99ff00e2",
   "metadata": {},
   "outputs": [
    {
     "data": {
      "text/plain": [
       "('test', 'signer34_sample1_color', '63', '133', '34')"
      ]
     },
     "execution_count": 66,
     "metadata": {},
     "output_type": "execute_result"
    }
   ],
   "source": [
    "split, video_id, frames, class_id, signer_id"
   ]
  },
  {
   "cell_type": "code",
   "execution_count": 68,
   "id": "51e0e96a",
   "metadata": {},
   "outputs": [],
   "source": [
    "dict_ = dict(split=split,\n",
    "         video_id=video_id,\n",
    "         frames=frames,\n",
    "         class_id=class_id,\n",
    "         signer_id=signer_id)"
   ]
  },
  {
   "cell_type": "code",
   "execution_count": 69,
   "id": "143b3363",
   "metadata": {},
   "outputs": [],
   "source": [
    "df = pd.DataFrame(data=dict_, index=[dict_['video_id']])"
   ]
  },
  {
   "cell_type": "code",
   "execution_count": 70,
   "id": "6a01daf8",
   "metadata": {},
   "outputs": [
    {
     "data": {
      "text/html": [
       "<div>\n",
       "<style scoped>\n",
       "    .dataframe tbody tr th:only-of-type {\n",
       "        vertical-align: middle;\n",
       "    }\n",
       "\n",
       "    .dataframe tbody tr th {\n",
       "        vertical-align: top;\n",
       "    }\n",
       "\n",
       "    .dataframe thead th {\n",
       "        text-align: right;\n",
       "    }\n",
       "</style>\n",
       "<table border=\"1\" class=\"dataframe\">\n",
       "  <thead>\n",
       "    <tr style=\"text-align: right;\">\n",
       "      <th></th>\n",
       "      <th>split</th>\n",
       "      <th>video_id</th>\n",
       "      <th>frames</th>\n",
       "      <th>class_id</th>\n",
       "      <th>signer_id</th>\n",
       "    </tr>\n",
       "  </thead>\n",
       "  <tbody>\n",
       "    <tr>\n",
       "      <th>signer34_sample1_color</th>\n",
       "      <td>test</td>\n",
       "      <td>signer34_sample1_color</td>\n",
       "      <td>63</td>\n",
       "      <td>133</td>\n",
       "      <td>34</td>\n",
       "    </tr>\n",
       "  </tbody>\n",
       "</table>\n",
       "</div>"
      ],
      "text/plain": [
       "                       split                video_id frames class_id signer_id\n",
       "signer34_sample1_color  test  signer34_sample1_color     63      133        34"
      ]
     },
     "execution_count": 70,
     "metadata": {},
     "output_type": "execute_result"
    }
   ],
   "source": [
    "df.head()"
   ]
  },
  {
   "cell_type": "code",
   "execution_count": 71,
   "id": "5f2a30a1",
   "metadata": {},
   "outputs": [],
   "source": [
    "df.drop(columns=['video_id'], inplace=True)\n",
    "df.index.name='video_id'"
   ]
  },
  {
   "cell_type": "code",
   "execution_count": 72,
   "id": "038cbbc6",
   "metadata": {},
   "outputs": [
    {
     "data": {
      "text/html": [
       "<div>\n",
       "<style scoped>\n",
       "    .dataframe tbody tr th:only-of-type {\n",
       "        vertical-align: middle;\n",
       "    }\n",
       "\n",
       "    .dataframe tbody tr th {\n",
       "        vertical-align: top;\n",
       "    }\n",
       "\n",
       "    .dataframe thead th {\n",
       "        text-align: right;\n",
       "    }\n",
       "</style>\n",
       "<table border=\"1\" class=\"dataframe\">\n",
       "  <thead>\n",
       "    <tr style=\"text-align: right;\">\n",
       "      <th></th>\n",
       "      <th>split</th>\n",
       "      <th>frames</th>\n",
       "      <th>class_id</th>\n",
       "      <th>signer_id</th>\n",
       "    </tr>\n",
       "    <tr>\n",
       "      <th>video_id</th>\n",
       "      <th></th>\n",
       "      <th></th>\n",
       "      <th></th>\n",
       "      <th></th>\n",
       "    </tr>\n",
       "  </thead>\n",
       "  <tbody>\n",
       "    <tr>\n",
       "      <th>signer34_sample1_color</th>\n",
       "      <td>test</td>\n",
       "      <td>63</td>\n",
       "      <td>133</td>\n",
       "      <td>34</td>\n",
       "    </tr>\n",
       "  </tbody>\n",
       "</table>\n",
       "</div>"
      ],
      "text/plain": [
       "                       split frames class_id signer_id\n",
       "video_id                                              \n",
       "signer34_sample1_color  test     63      133        34"
      ]
     },
     "execution_count": 72,
     "metadata": {},
     "output_type": "execute_result"
    }
   ],
   "source": [
    "df.head()"
   ]
  },
  {
   "cell_type": "markdown",
   "id": "c0e8db37",
   "metadata": {},
   "source": [
    "## Create a dataframe"
   ]
  },
  {
   "cell_type": "code",
   "execution_count": 73,
   "id": "1683ede3",
   "metadata": {},
   "outputs": [],
   "source": [
    "with open('autsl_annotations.txt') as fin:\n",
    "    while True:\n",
    "        line = fin.readline()\n",
    "        \n",
    "        if line == '':\n",
    "            break\n",
    "        \n",
    "        line = line.strip().split('/')\n",
    "        split = line[0]\n",
    "        line = line[1].split()\n",
    "        video_id = line[0]\n",
    "        frames = line[1]\n",
    "        class_id = line[2]\n",
    "        line =line[0].split('_')\n",
    "        signer_id = line[0][6:]\n",
    "        \n",
    "        dict_ = dict(split=split,\n",
    "         video_id=video_id,\n",
    "         frames=frames,\n",
    "         class_id=class_id,\n",
    "         signer_id=signer_id)\n",
    "        \n",
    "        df.loc[dict_['video_id']] = dict_"
   ]
  },
  {
   "cell_type": "code",
   "execution_count": 74,
   "id": "f5dc304f",
   "metadata": {},
   "outputs": [
    {
     "data": {
      "text/html": [
       "<div>\n",
       "<style scoped>\n",
       "    .dataframe tbody tr th:only-of-type {\n",
       "        vertical-align: middle;\n",
       "    }\n",
       "\n",
       "    .dataframe tbody tr th {\n",
       "        vertical-align: top;\n",
       "    }\n",
       "\n",
       "    .dataframe thead th {\n",
       "        text-align: right;\n",
       "    }\n",
       "</style>\n",
       "<table border=\"1\" class=\"dataframe\">\n",
       "  <thead>\n",
       "    <tr style=\"text-align: right;\">\n",
       "      <th></th>\n",
       "      <th>split</th>\n",
       "      <th>frames</th>\n",
       "      <th>class_id</th>\n",
       "      <th>signer_id</th>\n",
       "    </tr>\n",
       "    <tr>\n",
       "      <th>video_id</th>\n",
       "      <th></th>\n",
       "      <th></th>\n",
       "      <th></th>\n",
       "      <th></th>\n",
       "    </tr>\n",
       "  </thead>\n",
       "  <tbody>\n",
       "    <tr>\n",
       "      <th>signer34_sample1_color</th>\n",
       "      <td>test</td>\n",
       "      <td>63</td>\n",
       "      <td>133</td>\n",
       "      <td>34</td>\n",
       "    </tr>\n",
       "    <tr>\n",
       "      <th>signer34_sample2_color</th>\n",
       "      <td>test</td>\n",
       "      <td>70</td>\n",
       "      <td>61</td>\n",
       "      <td>34</td>\n",
       "    </tr>\n",
       "    <tr>\n",
       "      <th>signer34_sample3_color</th>\n",
       "      <td>test</td>\n",
       "      <td>54</td>\n",
       "      <td>32</td>\n",
       "      <td>34</td>\n",
       "    </tr>\n",
       "    <tr>\n",
       "      <th>signer34_sample4_color</th>\n",
       "      <td>test</td>\n",
       "      <td>64</td>\n",
       "      <td>169</td>\n",
       "      <td>34</td>\n",
       "    </tr>\n",
       "    <tr>\n",
       "      <th>signer34_sample5_color</th>\n",
       "      <td>test</td>\n",
       "      <td>65</td>\n",
       "      <td>77</td>\n",
       "      <td>34</td>\n",
       "    </tr>\n",
       "  </tbody>\n",
       "</table>\n",
       "</div>"
      ],
      "text/plain": [
       "                       split frames class_id signer_id\n",
       "video_id                                              \n",
       "signer34_sample1_color  test     63      133        34\n",
       "signer34_sample2_color  test     70       61        34\n",
       "signer34_sample3_color  test     54       32        34\n",
       "signer34_sample4_color  test     64      169        34\n",
       "signer34_sample5_color  test     65       77        34"
      ]
     },
     "execution_count": 74,
     "metadata": {},
     "output_type": "execute_result"
    }
   ],
   "source": [
    "df.head()"
   ]
  },
  {
   "cell_type": "markdown",
   "id": "e692ca23",
   "metadata": {},
   "source": [
    "## Add gloss information"
   ]
  },
  {
   "cell_type": "code",
   "execution_count": 30,
   "id": "b8a38b1e",
   "metadata": {},
   "outputs": [],
   "source": [
    "classes = dict()\n",
    "with open(\"./class_id.csv\", 'r') as file:\n",
    "    csvreader = csv.reader(file)\n",
    "    for i, row in enumerate(csvreader):\n",
    "        if i==0:\n",
    "            pass\n",
    "        else:\n",
    "            classes[row[0]] = dict(TR=row[1],\n",
    "                                   EN=row[2])"
   ]
  },
  {
   "cell_type": "code",
   "execution_count": 31,
   "id": "136cb400",
   "metadata": {},
   "outputs": [
    {
     "data": {
      "text/plain": [
       "{'0': {'TR': 'abla', 'EN': 'sister'},\n",
       " '1': {'TR': 'acele', 'EN': 'hurry'},\n",
       " '2': {'TR': 'acikmak', 'EN': 'hungry'},\n",
       " '3': {'TR': 'afiyet_olsun', 'EN': 'enjoy_your_meal'},\n",
       " '4': {'TR': 'agabey', 'EN': 'brother'},\n",
       " '5': {'TR': 'agac', 'EN': 'tree'},\n",
       " '6': {'TR': 'agir', 'EN': 'heavy'},\n",
       " '7': {'TR': 'aglamak', 'EN': 'cry'},\n",
       " '8': {'TR': 'aile', 'EN': 'family'},\n",
       " '9': {'TR': 'akilli', 'EN': 'wise'},\n",
       " '10': {'TR': 'akilsiz', 'EN': 'unwise'},\n",
       " '11': {'TR': 'akraba', 'EN': 'kin'},\n",
       " '12': {'TR': 'alisveris', 'EN': 'shopping'},\n",
       " '13': {'TR': 'anahtar', 'EN': 'key'},\n",
       " '14': {'TR': 'anne', 'EN': 'mother'},\n",
       " '15': {'TR': 'arkadas', 'EN': 'friend'},\n",
       " '16': {'TR': 'ataturk', 'EN': 'ataturk'},\n",
       " '17': {'TR': 'ayakkabi', 'EN': 'shoe'},\n",
       " '18': {'TR': 'ayna', 'EN': 'mirror'},\n",
       " '19': {'TR': 'ayni', 'EN': 'same'},\n",
       " '20': {'TR': 'baba', 'EN': 'father'},\n",
       " '21': {'TR': 'bahce', 'EN': 'garden'},\n",
       " '22': {'TR': 'bakmak', 'EN': 'look'},\n",
       " '23': {'TR': 'bal', 'EN': 'honey'},\n",
       " '24': {'TR': 'bardak', 'EN': 'glass'},\n",
       " '25': {'TR': 'bayrak', 'EN': 'flag'},\n",
       " '26': {'TR': 'bayram', 'EN': 'feast'},\n",
       " '27': {'TR': 'bebek', 'EN': 'baby'},\n",
       " '28': {'TR': 'bekar', 'EN': 'single'},\n",
       " '29': {'TR': 'beklemek', 'EN': 'wait'},\n",
       " '30': {'TR': 'ben', 'EN': 'I'},\n",
       " '31': {'TR': 'benzin', 'EN': 'petrol'},\n",
       " '32': {'TR': 'beraber', 'EN': 'together'},\n",
       " '33': {'TR': 'bilgi_vermek', 'EN': 'inform'},\n",
       " '34': {'TR': 'biz', 'EN': 'we'},\n",
       " '35': {'TR': 'calismak', 'EN': 'work'},\n",
       " '36': {'TR': 'carsamba', 'EN': 'wednesday'},\n",
       " '37': {'TR': 'catal', 'EN': 'fork'},\n",
       " '38': {'TR': 'cay', 'EN': 'tea'},\n",
       " '39': {'TR': 'caydanlik', 'EN': 'teapot'},\n",
       " '40': {'TR': 'cekic', 'EN': 'hammer'},\n",
       " '41': {'TR': 'cirkin', 'EN': 'ugly'},\n",
       " '42': {'TR': 'cocuk', 'EN': 'child'},\n",
       " '43': {'TR': 'corba', 'EN': 'soup'},\n",
       " '44': {'TR': 'cuma', 'EN': 'friday'},\n",
       " '45': {'TR': 'cumartesi', 'EN': 'saturday'},\n",
       " '46': {'TR': 'cuzdan', 'EN': 'wallet'},\n",
       " '47': {'TR': 'dakika', 'EN': 'minute'},\n",
       " '48': {'TR': 'dede', 'EN': 'grandfather'},\n",
       " '49': {'TR': 'degistirmek', 'EN': 'change'},\n",
       " '50': {'TR': 'devirmek', 'EN': 'topple'},\n",
       " '51': {'TR': 'devlet', 'EN': 'government'},\n",
       " '52': {'TR': 'doktor', 'EN': 'doctor'},\n",
       " '53': {'TR': 'dolu', 'EN': 'full'},\n",
       " '54': {'TR': 'dugun', 'EN': 'wedding'},\n",
       " '55': {'TR': 'dun', 'EN': 'yesterday'},\n",
       " '56': {'TR': 'dusman', 'EN': 'enemy'},\n",
       " '57': {'TR': 'duvar', 'EN': 'wall'},\n",
       " '58': {'TR': 'eczane', 'EN': 'pharmacy'},\n",
       " '59': {'TR': 'eldiven', 'EN': 'glove'},\n",
       " '60': {'TR': 'emek', 'EN': 'labor'},\n",
       " '61': {'TR': 'emekli', 'EN': 'retired'},\n",
       " '62': {'TR': 'erkek', 'EN': 'male'},\n",
       " '63': {'TR': 'et', 'EN': 'meal'},\n",
       " '64': {'TR': 'ev', 'EN': 'house'},\n",
       " '65': {'TR': 'evet', 'EN': 'yes'},\n",
       " '66': {'TR': 'evli', 'EN': 'married'},\n",
       " '67': {'TR': 'ezberlemek', 'EN': 'memorize'},\n",
       " '68': {'TR': 'fil', 'EN': 'elephant'},\n",
       " '69': {'TR': 'fotograf', 'EN': 'photograph'},\n",
       " '70': {'TR': 'futbol', 'EN': 'football'},\n",
       " '71': {'TR': 'gecmis', 'EN': 'past'},\n",
       " '72': {'TR': 'gecmis_olsun', 'EN': 'get_well'},\n",
       " '73': {'TR': 'getirmek', 'EN': 'bring'},\n",
       " '74': {'TR': 'gol', 'EN': 'lake'},\n",
       " '75': {'TR': 'gomlek', 'EN': 'shirt'},\n",
       " '76': {'TR': 'gormek', 'EN': 'see'},\n",
       " '77': {'TR': 'gostermek', 'EN': 'show'},\n",
       " '78': {'TR': 'gulmek', 'EN': 'laugh'},\n",
       " '79': {'TR': 'hafif', 'EN': 'lightweight'},\n",
       " '80': {'TR': 'hakli', 'EN': 'right'},\n",
       " '81': {'TR': 'hali', 'EN': 'carpet'},\n",
       " '82': {'TR': 'hasta', 'EN': 'ill'},\n",
       " '83': {'TR': 'hastane', 'EN': 'hospital'},\n",
       " '84': {'TR': 'hata', 'EN': 'fault'},\n",
       " '85': {'TR': 'havlu', 'EN': 'towel'},\n",
       " '86': {'TR': 'hayir', 'EN': 'no'},\n",
       " '87': {'TR': 'hayirli_olsun', 'EN': 'congratulations'},\n",
       " '88': {'TR': 'hayvan', 'EN': 'animal'},\n",
       " '89': {'TR': 'hediye', 'EN': 'gift'},\n",
       " '90': {'TR': 'helal', 'EN': 'halal'},\n",
       " '91': {'TR': 'hep', 'EN': 'always'},\n",
       " '92': {'TR': 'hic', 'EN': 'never'},\n",
       " '93': {'TR': 'hoscakal', 'EN': 'goodbye'},\n",
       " '94': {'TR': 'icmek', 'EN': 'drink'},\n",
       " '95': {'TR': 'igne', 'EN': 'needle'},\n",
       " '96': {'TR': 'ilac', 'EN': 'medicine'},\n",
       " '97': {'TR': 'ilgilenmemek', 'EN': 'not_interested'},\n",
       " '98': {'TR': 'isik', 'EN': 'light'},\n",
       " '99': {'TR': 'itmek', 'EN': 'push'},\n",
       " '100': {'TR': 'iyi', 'EN': 'good'},\n",
       " '101': {'TR': 'kacmak', 'EN': 'escape'},\n",
       " '102': {'TR': 'kahvalti', 'EN': 'breakfast'},\n",
       " '103': {'TR': 'kalem', 'EN': 'pencil'},\n",
       " '104': {'TR': 'kalorifer', 'EN': 'radiator'},\n",
       " '105': {'TR': 'kapi', 'EN': 'door'},\n",
       " '106': {'TR': 'kardes', 'EN': 'sibling'},\n",
       " '107': {'TR': 'kavsak', 'EN': 'crossroads'},\n",
       " '108': {'TR': 'kaza', 'EN': 'accident'},\n",
       " '109': {'TR': 'kemer', 'EN': 'belt'},\n",
       " '110': {'TR': 'keske', 'EN': 'if_only'},\n",
       " '111': {'TR': 'kim', 'EN': 'who'},\n",
       " '112': {'TR': 'kimlik', 'EN': 'identity'},\n",
       " '113': {'TR': 'kira', 'EN': 'rent'},\n",
       " '114': {'TR': 'kitap', 'EN': 'book'},\n",
       " '115': {'TR': 'kiyma', 'EN': 'mince'},\n",
       " '116': {'TR': 'kiz', 'EN': 'female'},\n",
       " '117': {'TR': 'koku', 'EN': 'smell'},\n",
       " '118': {'TR': 'kolonya', 'EN': 'cologne'},\n",
       " '119': {'TR': 'komur', 'EN': 'coal'},\n",
       " '120': {'TR': 'kopek', 'EN': 'dog'},\n",
       " '121': {'TR': 'kopru', 'EN': 'bridge'},\n",
       " '122': {'TR': 'kotu', 'EN': 'bad'},\n",
       " '123': {'TR': 'kucak', 'EN': 'lap'},\n",
       " '124': {'TR': 'leke', 'EN': 'stain'},\n",
       " '125': {'TR': 'maas', 'EN': 'salary'},\n",
       " '126': {'TR': 'makas', 'EN': 'scissors'},\n",
       " '127': {'TR': 'masa', 'EN': 'tongs'},\n",
       " '128': {'TR': 'masallah', 'EN': 'god_preserve'},\n",
       " '129': {'TR': 'melek', 'EN': 'angel'},\n",
       " '130': {'TR': 'memnun_olmak', 'EN': 'be_pleased'},\n",
       " '131': {'TR': 'mendil', 'EN': 'napkin'},\n",
       " '132': {'TR': 'merdiven', 'EN': 'stairs'},\n",
       " '133': {'TR': 'misafir', 'EN': 'guest'},\n",
       " '134': {'TR': 'mudur', 'EN': 'manager'},\n",
       " '135': {'TR': 'musluk', 'EN': 'tap'},\n",
       " '136': {'TR': 'nasil', 'EN': 'how'},\n",
       " '137': {'TR': 'neden', 'EN': 'why'},\n",
       " '138': {'TR': 'nerede', 'EN': 'where'},\n",
       " '139': {'TR': 'nine', 'EN': 'grandmother'},\n",
       " '140': {'TR': 'ocak', 'EN': 'oven'},\n",
       " '141': {'TR': 'oda', 'EN': 'room'},\n",
       " '142': {'TR': 'odun', 'EN': 'wood'},\n",
       " '143': {'TR': 'ogretmen', 'EN': 'teacher'},\n",
       " '144': {'TR': 'okul', 'EN': 'school'},\n",
       " '145': {'TR': 'olimpiyat', 'EN': 'olympiad'},\n",
       " '146': {'TR': 'olmaz', 'EN': 'nope'},\n",
       " '147': {'TR': 'olur', 'EN': 'allright'},\n",
       " '148': {'TR': 'onlar', 'EN': 'they'},\n",
       " '149': {'TR': 'orman', 'EN': 'forest'},\n",
       " '150': {'TR': 'oruc', 'EN': 'fasting'},\n",
       " '151': {'TR': 'ozur_dilemek', 'EN': 'apologize'},\n",
       " '152': {'TR': 'pamuk', 'EN': 'cotton'},\n",
       " '153': {'TR': 'pantolon', 'EN': 'trousers'},\n",
       " '154': {'TR': 'para', 'EN': 'money'},\n",
       " '155': {'TR': 'pastirma', 'EN': 'pastrami'},\n",
       " '156': {'TR': 'patates', 'EN': 'potato'},\n",
       " '157': {'TR': 'pazar', 'EN': 'sunday'},\n",
       " '158': {'TR': 'pazartesi', 'EN': 'monday'},\n",
       " '159': {'TR': 'pencere', 'EN': 'window'},\n",
       " '160': {'TR': 'persembe', 'EN': 'thursday'},\n",
       " '161': {'TR': 'piknik', 'EN': 'picnic'},\n",
       " '162': {'TR': 'polis', 'EN': 'police'},\n",
       " '163': {'TR': 'psikoloji', 'EN': 'psychology'},\n",
       " '164': {'TR': 'rica_etmek', 'EN': 'request'},\n",
       " '165': {'TR': 'saat', 'EN': 'hour'},\n",
       " '166': {'TR': 'sabun', 'EN': 'soap'},\n",
       " '167': {'TR': 'salca', 'EN': 'sauce'},\n",
       " '168': {'TR': 'sali', 'EN': 'tuesday'},\n",
       " '169': {'TR': 'sampiyon', 'EN': 'champion'},\n",
       " '170': {'TR': 'sapka', 'EN': 'hat'},\n",
       " '171': {'TR': 'savas', 'EN': 'war'},\n",
       " '172': {'TR': 'seker', 'EN': 'sugar'},\n",
       " '173': {'TR': 'selam', 'EN': 'hi'},\n",
       " '174': {'TR': 'semsiye', 'EN': 'umbrella'},\n",
       " '175': {'TR': 'sen', 'EN': 'you'},\n",
       " '176': {'TR': 'senet', 'EN': 'bill'},\n",
       " '177': {'TR': 'serbest', 'EN': 'free'},\n",
       " '178': {'TR': 'ses', 'EN': 'voice'},\n",
       " '179': {'TR': 'sevmek', 'EN': 'love'},\n",
       " '180': {'TR': 'seytan', 'EN': 'evil'},\n",
       " '181': {'TR': 'sinir', 'EN': 'border'},\n",
       " '182': {'TR': 'siz', 'EN': 'you'},\n",
       " '183': {'TR': 'soylemek', 'EN': 'say'},\n",
       " '184': {'TR': 'soz', 'EN': 'promise'},\n",
       " '185': {'TR': 'sut', 'EN': 'milk'},\n",
       " '186': {'TR': 'tamam', 'EN': 'okay'},\n",
       " '187': {'TR': 'tarak', 'EN': 'comb'},\n",
       " '188': {'TR': 'tarih', 'EN': 'date'},\n",
       " '189': {'TR': 'tatil', 'EN': 'holiday'},\n",
       " '190': {'TR': 'tatli', 'EN': 'sweet'},\n",
       " '191': {'TR': 'tavan', 'EN': 'ceiling'},\n",
       " '192': {'TR': 'tehlike', 'EN': 'danger'},\n",
       " '193': {'TR': 'telefon', 'EN': 'telephone'},\n",
       " '194': {'TR': 'terazi', 'EN': 'scales'},\n",
       " '195': {'TR': 'terzi', 'EN': 'tailor'},\n",
       " '196': {'TR': 'tesekkur', 'EN': 'thanks'},\n",
       " '197': {'TR': 'tornavida', 'EN': 'screwdriver'},\n",
       " '198': {'TR': 'turkiye', 'EN': 'turkey'},\n",
       " '199': {'TR': 'turuncu', 'EN': 'orange'},\n",
       " '200': {'TR': 'tuvalet', 'EN': 'toilet'},\n",
       " '201': {'TR': 'un', 'EN': 'flour'},\n",
       " '202': {'TR': 'uzak', 'EN': 'far'},\n",
       " '203': {'TR': 'uzgun', 'EN': 'sad'},\n",
       " '204': {'TR': 'var', 'EN': 'existing'},\n",
       " '205': {'TR': 'vergi', 'EN': 'tax'},\n",
       " '206': {'TR': 'yakin', 'EN': 'near'},\n",
       " '207': {'TR': 'yalniz', 'EN': 'alone'},\n",
       " '208': {'TR': 'yanlis', 'EN': 'wrong'},\n",
       " '209': {'TR': 'yapmak', 'EN': 'do'},\n",
       " '210': {'TR': 'yarabandi', 'EN': 'band-aid'},\n",
       " '211': {'TR': 'yardim', 'EN': 'help'},\n",
       " '212': {'TR': 'yarin', 'EN': 'tomorrow'},\n",
       " '213': {'TR': 'yasak', 'EN': 'forbidden'},\n",
       " '214': {'TR': 'yastik', 'EN': 'pillow'},\n",
       " '215': {'TR': 'yatak', 'EN': 'bed'},\n",
       " '216': {'TR': 'yavas', 'EN': 'slow'},\n",
       " '217': {'TR': 'yemek', 'EN': 'eat'},\n",
       " '218': {'TR': 'yemek_pisirmek', 'EN': 'cook'},\n",
       " '219': {'TR': 'yildiz', 'EN': 'star'},\n",
       " '220': {'TR': 'yok', 'EN': 'absent'},\n",
       " '221': {'TR': 'yol', 'EN': 'road'},\n",
       " '222': {'TR': 'yorgun', 'EN': 'tired'},\n",
       " '223': {'TR': 'yumurta', 'EN': 'egg'},\n",
       " '224': {'TR': 'zaman', 'EN': 'time'},\n",
       " '225': {'TR': 'zor', 'EN': 'difficult'}}"
      ]
     },
     "execution_count": 31,
     "metadata": {},
     "output_type": "execute_result"
    }
   ],
   "source": [
    "classes"
   ]
  },
  {
   "cell_type": "code",
   "execution_count": 37,
   "id": "c793745c",
   "metadata": {},
   "outputs": [],
   "source": [
    "df['TR'] = df.apply(lambda x: classes[x['class_id']]['TR'], axis=1)\n",
    "df['EN'] = df.apply(lambda x: classes[x['class_id']]['EN'], axis=1)"
   ]
  },
  {
   "cell_type": "code",
   "execution_count": 38,
   "id": "b387184c",
   "metadata": {},
   "outputs": [
    {
     "data": {
      "text/html": [
       "<div>\n",
       "<style scoped>\n",
       "    .dataframe tbody tr th:only-of-type {\n",
       "        vertical-align: middle;\n",
       "    }\n",
       "\n",
       "    .dataframe tbody tr th {\n",
       "        vertical-align: top;\n",
       "    }\n",
       "\n",
       "    .dataframe thead th {\n",
       "        text-align: right;\n",
       "    }\n",
       "</style>\n",
       "<table border=\"1\" class=\"dataframe\">\n",
       "  <thead>\n",
       "    <tr style=\"text-align: right;\">\n",
       "      <th></th>\n",
       "      <th>split</th>\n",
       "      <th>frames</th>\n",
       "      <th>class_id</th>\n",
       "      <th>TR</th>\n",
       "      <th>EN</th>\n",
       "    </tr>\n",
       "    <tr>\n",
       "      <th>video_id</th>\n",
       "      <th></th>\n",
       "      <th></th>\n",
       "      <th></th>\n",
       "      <th></th>\n",
       "      <th></th>\n",
       "    </tr>\n",
       "  </thead>\n",
       "  <tbody>\n",
       "    <tr>\n",
       "      <th>signer34_sample1_color</th>\n",
       "      <td>test</td>\n",
       "      <td>63</td>\n",
       "      <td>133</td>\n",
       "      <td>misafir</td>\n",
       "      <td>guest</td>\n",
       "    </tr>\n",
       "    <tr>\n",
       "      <th>signer34_sample2_color</th>\n",
       "      <td>test</td>\n",
       "      <td>70</td>\n",
       "      <td>61</td>\n",
       "      <td>emekli</td>\n",
       "      <td>retired</td>\n",
       "    </tr>\n",
       "    <tr>\n",
       "      <th>signer34_sample3_color</th>\n",
       "      <td>test</td>\n",
       "      <td>54</td>\n",
       "      <td>32</td>\n",
       "      <td>beraber</td>\n",
       "      <td>together</td>\n",
       "    </tr>\n",
       "    <tr>\n",
       "      <th>signer34_sample4_color</th>\n",
       "      <td>test</td>\n",
       "      <td>64</td>\n",
       "      <td>169</td>\n",
       "      <td>sampiyon</td>\n",
       "      <td>champion</td>\n",
       "    </tr>\n",
       "    <tr>\n",
       "      <th>signer34_sample5_color</th>\n",
       "      <td>test</td>\n",
       "      <td>65</td>\n",
       "      <td>77</td>\n",
       "      <td>gostermek</td>\n",
       "      <td>show</td>\n",
       "    </tr>\n",
       "  </tbody>\n",
       "</table>\n",
       "</div>"
      ],
      "text/plain": [
       "                       split frames class_id         TR        EN\n",
       "video_id                                                         \n",
       "signer34_sample1_color  test     63      133    misafir     guest\n",
       "signer34_sample2_color  test     70       61     emekli   retired\n",
       "signer34_sample3_color  test     54       32    beraber  together\n",
       "signer34_sample4_color  test     64      169   sampiyon  champion\n",
       "signer34_sample5_color  test     65       77  gostermek      show"
      ]
     },
     "execution_count": 38,
     "metadata": {},
     "output_type": "execute_result"
    }
   ],
   "source": [
    "df.head()"
   ]
  },
  {
   "cell_type": "code",
   "execution_count": 42,
   "id": "fa1022b3",
   "metadata": {},
   "outputs": [
    {
     "data": {
      "text/html": [
       "<div>\n",
       "<style scoped>\n",
       "    .dataframe tbody tr th:only-of-type {\n",
       "        vertical-align: middle;\n",
       "    }\n",
       "\n",
       "    .dataframe tbody tr th {\n",
       "        vertical-align: top;\n",
       "    }\n",
       "\n",
       "    .dataframe thead th {\n",
       "        text-align: right;\n",
       "    }\n",
       "</style>\n",
       "<table border=\"1\" class=\"dataframe\">\n",
       "  <thead>\n",
       "    <tr style=\"text-align: right;\">\n",
       "      <th></th>\n",
       "      <th>split</th>\n",
       "      <th>class_id</th>\n",
       "      <th>EN</th>\n",
       "      <th>TR</th>\n",
       "      <th>frames</th>\n",
       "    </tr>\n",
       "    <tr>\n",
       "      <th>video_id</th>\n",
       "      <th></th>\n",
       "      <th></th>\n",
       "      <th></th>\n",
       "      <th></th>\n",
       "      <th></th>\n",
       "    </tr>\n",
       "  </thead>\n",
       "  <tbody>\n",
       "    <tr>\n",
       "      <th>signer34_sample1_color</th>\n",
       "      <td>test</td>\n",
       "      <td>133</td>\n",
       "      <td>guest</td>\n",
       "      <td>misafir</td>\n",
       "      <td>63</td>\n",
       "    </tr>\n",
       "    <tr>\n",
       "      <th>signer34_sample2_color</th>\n",
       "      <td>test</td>\n",
       "      <td>61</td>\n",
       "      <td>retired</td>\n",
       "      <td>emekli</td>\n",
       "      <td>70</td>\n",
       "    </tr>\n",
       "    <tr>\n",
       "      <th>signer34_sample3_color</th>\n",
       "      <td>test</td>\n",
       "      <td>32</td>\n",
       "      <td>together</td>\n",
       "      <td>beraber</td>\n",
       "      <td>54</td>\n",
       "    </tr>\n",
       "    <tr>\n",
       "      <th>signer34_sample4_color</th>\n",
       "      <td>test</td>\n",
       "      <td>169</td>\n",
       "      <td>champion</td>\n",
       "      <td>sampiyon</td>\n",
       "      <td>64</td>\n",
       "    </tr>\n",
       "    <tr>\n",
       "      <th>signer34_sample5_color</th>\n",
       "      <td>test</td>\n",
       "      <td>77</td>\n",
       "      <td>show</td>\n",
       "      <td>gostermek</td>\n",
       "      <td>65</td>\n",
       "    </tr>\n",
       "  </tbody>\n",
       "</table>\n",
       "</div>"
      ],
      "text/plain": [
       "                       split class_id        EN         TR frames\n",
       "video_id                                                         \n",
       "signer34_sample1_color  test      133     guest    misafir     63\n",
       "signer34_sample2_color  test       61   retired     emekli     70\n",
       "signer34_sample3_color  test       32  together    beraber     54\n",
       "signer34_sample4_color  test      169  champion   sampiyon     64\n",
       "signer34_sample5_color  test       77      show  gostermek     65"
      ]
     },
     "execution_count": 42,
     "metadata": {},
     "output_type": "execute_result"
    }
   ],
   "source": [
    "cols = ['split', 'class_id','EN', 'TR', 'frames']\n",
    "df = df[cols]\n",
    "df.head()"
   ]
  },
  {
   "cell_type": "code",
   "execution_count": null,
   "id": "1a79350c",
   "metadata": {},
   "outputs": [],
   "source": []
  }
 ],
 "metadata": {
  "kernelspec": {
   "display_name": "dataloader",
   "language": "python",
   "name": "dataloader"
  },
  "language_info": {
   "codemirror_mode": {
    "name": "ipython",
    "version": 3
   },
   "file_extension": ".py",
   "mimetype": "text/x-python",
   "name": "python",
   "nbconvert_exporter": "python",
   "pygments_lexer": "ipython3",
   "version": "3.8.16"
  }
 },
 "nbformat": 4,
 "nbformat_minor": 5
}
