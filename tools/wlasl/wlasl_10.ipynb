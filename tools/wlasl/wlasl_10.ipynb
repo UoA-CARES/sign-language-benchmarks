{
 "cells": [
  {
   "cell_type": "code",
   "execution_count": 16,
   "id": "91f048cd",
   "metadata": {},
   "outputs": [],
   "source": [
    "import os\n",
    "import pandas as pd\n",
    "import json"
   ]
  },
  {
   "cell_type": "code",
   "execution_count": 12,
   "id": "aa6cea19",
   "metadata": {},
   "outputs": [
    {
     "ename": "FileNotFoundError",
     "evalue": "[Errno 2] No such file or directory: '../../data/wlasl/wlasl-uncompressed/'",
     "output_type": "error",
     "traceback": [
      "\u001b[0;31m---------------------------------------------------------------------------\u001b[0m",
      "\u001b[0;31mFileNotFoundError\u001b[0m                         Traceback (most recent call last)",
      "Input \u001b[0;32mIn [12]\u001b[0m, in \u001b[0;36m<cell line: 1>\u001b[0;34m()\u001b[0m\n\u001b[0;32m----> 1\u001b[0m \u001b[43mos\u001b[49m\u001b[38;5;241;43m.\u001b[39;49m\u001b[43mchdir\u001b[49m\u001b[43m(\u001b[49m\u001b[38;5;124;43m'\u001b[39;49m\u001b[38;5;124;43m../../data/wlasl/wlasl-uncompressed/\u001b[39;49m\u001b[38;5;124;43m'\u001b[39;49m\u001b[43m)\u001b[49m\n",
      "\u001b[0;31mFileNotFoundError\u001b[0m: [Errno 2] No such file or directory: '../../data/wlasl/wlasl-uncompressed/'"
     ]
    }
   ],
   "source": [
    "os.chdir('../../data/wlasl/wlasl-uncompressed/')"
   ]
  },
  {
   "cell_type": "code",
   "execution_count": 9,
   "id": "59f84662",
   "metadata": {},
   "outputs": [
    {
     "name": "stdout",
     "output_type": "stream",
     "text": [
      "missing.txt\tnslt_2000.json\ttrain\twlasl_100.json\t wlasl_class_list.txt\r\n",
      "nslt_1000.json\tnslt_300.json\tval\twlasl_10.json\t WLASL_v0.3.json\r\n",
      "nslt_100.json\ttest\t\tvideos\twlasl_2000.json\r\n"
     ]
    }
   ],
   "source": [
    "!dir"
   ]
  },
  {
   "cell_type": "code",
   "execution_count": 13,
   "id": "8ae9b809",
   "metadata": {},
   "outputs": [],
   "source": [
    "with open('missing.txt') as fin:\n",
    "    missing = fin.readlines()\n",
    "\n",
    "with open('nslt_2000.json') as fin:\n",
    "    videos = json.load(fin)"
   ]
  },
  {
   "cell_type": "code",
   "execution_count": 14,
   "id": "2ef81eb5",
   "metadata": {},
   "outputs": [],
   "source": [
    "for value in missing:\n",
    "    try:\n",
    "        videos.pop(value.strip('\\n'))\n",
    "    except KeyError:\n",
    "        pass"
   ]
  },
  {
   "cell_type": "code",
   "execution_count": 19,
   "id": "6c7d366a",
   "metadata": {},
   "outputs": [
    {
     "data": {
      "text/html": [
       "<div>\n",
       "<style scoped>\n",
       "    .dataframe tbody tr th:only-of-type {\n",
       "        vertical-align: middle;\n",
       "    }\n",
       "\n",
       "    .dataframe tbody tr th {\n",
       "        vertical-align: top;\n",
       "    }\n",
       "\n",
       "    .dataframe thead th {\n",
       "        text-align: right;\n",
       "    }\n",
       "</style>\n",
       "<table border=\"1\" class=\"dataframe\">\n",
       "  <thead>\n",
       "    <tr style=\"text-align: right;\">\n",
       "      <th></th>\n",
       "      <th>subset</th>\n",
       "      <th>action</th>\n",
       "    </tr>\n",
       "  </thead>\n",
       "  <tbody>\n",
       "    <tr>\n",
       "      <th>65097</th>\n",
       "      <td>train</td>\n",
       "      <td>[481, 1, 74]</td>\n",
       "    </tr>\n",
       "    <tr>\n",
       "      <th>35544</th>\n",
       "      <td>train</td>\n",
       "      <td>[1164, 1, 68]</td>\n",
       "    </tr>\n",
       "    <tr>\n",
       "      <th>30173</th>\n",
       "      <td>test</td>\n",
       "      <td>[1144, 1, 34]</td>\n",
       "    </tr>\n",
       "    <tr>\n",
       "      <th>35548</th>\n",
       "      <td>train</td>\n",
       "      <td>[1164, 1, 24]</td>\n",
       "    </tr>\n",
       "    <tr>\n",
       "      <th>24029</th>\n",
       "      <td>train</td>\n",
       "      <td>[208, 1, 28]</td>\n",
       "    </tr>\n",
       "  </tbody>\n",
       "</table>\n",
       "</div>"
      ],
      "text/plain": [
       "      subset         action\n",
       "65097  train   [481, 1, 74]\n",
       "35544  train  [1164, 1, 68]\n",
       "30173   test  [1144, 1, 34]\n",
       "35548  train  [1164, 1, 24]\n",
       "24029  train   [208, 1, 28]"
      ]
     },
     "execution_count": 19,
     "metadata": {},
     "output_type": "execute_result"
    }
   ],
   "source": [
    "df = pd.DataFrame(videos).transpose()\n",
    "df.head()"
   ]
  },
  {
   "cell_type": "code",
   "execution_count": 25,
   "id": "88476c51",
   "metadata": {},
   "outputs": [
    {
     "data": {
      "text/html": [
       "<div>\n",
       "<style scoped>\n",
       "    .dataframe tbody tr th:only-of-type {\n",
       "        vertical-align: middle;\n",
       "    }\n",
       "\n",
       "    .dataframe tbody tr th {\n",
       "        vertical-align: top;\n",
       "    }\n",
       "\n",
       "    .dataframe thead th {\n",
       "        text-align: right;\n",
       "    }\n",
       "</style>\n",
       "<table border=\"1\" class=\"dataframe\">\n",
       "  <thead>\n",
       "    <tr style=\"text-align: right;\">\n",
       "      <th></th>\n",
       "      <th>subset</th>\n",
       "      <th>action</th>\n",
       "      <th>class</th>\n",
       "    </tr>\n",
       "  </thead>\n",
       "  <tbody>\n",
       "    <tr>\n",
       "      <th>65097</th>\n",
       "      <td>train</td>\n",
       "      <td>[481, 1, 74]</td>\n",
       "      <td>481</td>\n",
       "    </tr>\n",
       "    <tr>\n",
       "      <th>35544</th>\n",
       "      <td>train</td>\n",
       "      <td>[1164, 1, 68]</td>\n",
       "      <td>1164</td>\n",
       "    </tr>\n",
       "    <tr>\n",
       "      <th>30173</th>\n",
       "      <td>test</td>\n",
       "      <td>[1144, 1, 34]</td>\n",
       "      <td>1144</td>\n",
       "    </tr>\n",
       "    <tr>\n",
       "      <th>35548</th>\n",
       "      <td>train</td>\n",
       "      <td>[1164, 1, 24]</td>\n",
       "      <td>1164</td>\n",
       "    </tr>\n",
       "    <tr>\n",
       "      <th>24029</th>\n",
       "      <td>train</td>\n",
       "      <td>[208, 1, 28]</td>\n",
       "      <td>208</td>\n",
       "    </tr>\n",
       "  </tbody>\n",
       "</table>\n",
       "</div>"
      ],
      "text/plain": [
       "      subset         action  class\n",
       "65097  train   [481, 1, 74]    481\n",
       "35544  train  [1164, 1, 68]   1164\n",
       "30173   test  [1144, 1, 34]   1144\n",
       "35548  train  [1164, 1, 24]   1164\n",
       "24029  train   [208, 1, 28]    208"
      ]
     },
     "execution_count": 25,
     "metadata": {},
     "output_type": "execute_result"
    }
   ],
   "source": [
    "df['class'] = df.apply(lambda x: x.action[0], axis=1)\n",
    "df.head()"
   ]
  },
  {
   "cell_type": "code",
   "execution_count": 27,
   "id": "5dfae862",
   "metadata": {},
   "outputs": [
    {
     "data": {
      "text/plain": [
       "2000"
      ]
     },
     "execution_count": 27,
     "metadata": {},
     "output_type": "execute_result"
    }
   ],
   "source": [
    "df['class'].nunique()"
   ]
  },
  {
   "cell_type": "code",
   "execution_count": 40,
   "id": "3814f9d3",
   "metadata": {},
   "outputs": [
    {
     "data": {
      "text/plain": [
       "[3, 14, 20, 1, 5, 2, 12, 9, 7, 51]"
      ]
     },
     "execution_count": 40,
     "metadata": {},
     "output_type": "execute_result"
    }
   ],
   "source": [
    "top10 = df['class'].value_counts().iloc[:10].index.tolist()\n",
    "top10"
   ]
  },
  {
   "cell_type": "code",
   "execution_count": 43,
   "id": "59f95a58",
   "metadata": {},
   "outputs": [
    {
     "data": {
      "text/plain": [
       "{'subset': 'train', 'action': [481, 1, 74]}"
      ]
     },
     "execution_count": 43,
     "metadata": {},
     "output_type": "execute_result"
    }
   ],
   "source": [
    "value = '65097'\n",
    "videos[value]"
   ]
  },
  {
   "cell_type": "code",
   "execution_count": 44,
   "id": "76ef6996",
   "metadata": {},
   "outputs": [
    {
     "data": {
      "text/plain": [
       "481"
      ]
     },
     "execution_count": 44,
     "metadata": {},
     "output_type": "execute_result"
    }
   ],
   "source": [
    "videos[value]['action'][0]"
   ]
  },
  {
   "cell_type": "code",
   "execution_count": 55,
   "id": "e5a9bb1e",
   "metadata": {},
   "outputs": [],
   "source": [
    "for value in list(videos.keys()):\n",
    "    if videos[value]['action'][0] not in top10:\n",
    "        try:\n",
    "            videos.pop(value.strip('\\n'))\n",
    "        except KeyError:\n",
    "            pass"
   ]
  },
  {
   "cell_type": "code",
   "execution_count": 58,
   "id": "72092442",
   "metadata": {},
   "outputs": [],
   "source": [
    "with open('nslt_10.json', 'w') as fout:\n",
    "    fout.write(json.dumps(videos))"
   ]
  }
 ],
 "metadata": {
  "kernelspec": {
   "display_name": "ray_of_hope",
   "language": "python",
   "name": "ray_of_hope"
  },
  "language_info": {
   "codemirror_mode": {
    "name": "ipython",
    "version": 3
   },
   "file_extension": ".py",
   "mimetype": "text/x-python",
   "name": "python",
   "nbconvert_exporter": "python",
   "pygments_lexer": "ipython3",
   "version": "3.9.13"
  }
 },
 "nbformat": 4,
 "nbformat_minor": 5
}
