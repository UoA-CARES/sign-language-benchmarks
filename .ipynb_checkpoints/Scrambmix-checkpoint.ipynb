{
 "cells": [
  {
   "cell_type": "code",
   "execution_count": 1,
   "id": "2441aeda",
   "metadata": {},
   "outputs": [
    {
     "name": "stderr",
     "output_type": "stream",
     "text": [
      "/home/sadat/miniconda3/envs/mmsign/lib/python3.8/site-packages/tqdm/auto.py:21: TqdmWarning: IProgress not found. Please update jupyter and ipywidgets. See https://ipywidgets.readthedocs.io/en/stable/user_install.html\n",
      "  from .autonotebook import tqdm as notebook_tqdm\n",
      "/home/sadat/miniconda3/envs/mmsign/lib/python3.8/site-packages/mmcv/__init__.py:20: UserWarning: On January 1, 2023, MMCV will release v2.0.0, in which it will remove components related to the training process and add a data transformation module. In addition, it will rename the package names mmcv to mmcv-lite and mmcv-full to mmcv. See https://github.com/open-mmlab/mmcv/blob/master/docs/en/compatibility.md for more details.\n",
      "  warnings.warn(\n"
     ]
    }
   ],
   "source": [
    "import os\n",
    "import matplotlib.pyplot as plt\n",
    "import torch\n",
    "import numpy as np\n",
    "from mmaction.datasets import MixupBlending"
   ]
  },
  {
   "cell_type": "code",
   "execution_count": 2,
   "id": "f63f2ec9",
   "metadata": {},
   "outputs": [],
   "source": [
    "from flow_dataset import MultiModalDataset"
   ]
  },
  {
   "cell_type": "code",
   "execution_count": 3,
   "id": "02099ba3",
   "metadata": {},
   "outputs": [],
   "source": [
    "dataset = MultiModalDataset(ann_file='data/autsl/train_annotations.txt',\n",
    "                            root_dir='data/autsl/rawframes',\n",
    "                            clip_len=32,\n",
    "                            resolution=224,\n",
    "                            modalities=('rgb'),\n",
    "                            test_mode=False,\n",
    "                            frame_interval=1,\n",
    "                            input_resolution=512,\n",
    "                            num_clips=1\n",
    "                            )"
   ]
  },
  {
   "cell_type": "code",
   "execution_count": 4,
   "id": "b31c67b7",
   "metadata": {},
   "outputs": [],
   "source": [
    "train_loader = torch.utils.data.DataLoader(dataset=dataset,\n",
    "                                                batch_size=4,\n",
    "                                                shuffle=True,\n",
    "                                                num_workers=4,\n",
    "                                                pin_memory=True)"
   ]
  },
  {
   "cell_type": "code",
   "execution_count": 5,
   "id": "6b6ece62",
   "metadata": {},
   "outputs": [],
   "source": [
    "iter_ = iter(train_loader)"
   ]
  },
  {
   "cell_type": "code",
   "execution_count": 6,
   "id": "091fd4f1",
   "metadata": {},
   "outputs": [
    {
     "data": {
      "text/plain": [
       "torch.Size([4, 1])"
      ]
     },
     "execution_count": 6,
     "metadata": {},
     "output_type": "execute_result"
    }
   ],
   "source": [
    "imgs = next(iter_)\n",
    "imgs['rgb'] = imgs['rgb']\n",
    "imgs['label'] = imgs['label'].unsqueeze(dim=1)\n",
    "imgs['label'].shape"
   ]
  },
  {
   "cell_type": "code",
   "execution_count": 7,
   "id": "d2fb6004",
   "metadata": {},
   "outputs": [
    {
     "data": {
      "text/plain": [
       "torch.Size([4, 3, 32, 224, 224])"
      ]
     },
     "execution_count": 7,
     "metadata": {},
     "output_type": "execute_result"
    }
   ],
   "source": [
    "imgs['rgb'].shape"
   ]
  },
  {
   "cell_type": "code",
   "execution_count": 8,
   "id": "1eafd1de",
   "metadata": {},
   "outputs": [],
   "source": [
    "mixup = MixupBlending(num_classes=226, alpha=0.2)\n",
    "mixed_imgs, mixed_label = mixup.do_blending(imgs['rgb'], imgs['label'])"
   ]
  },
  {
   "cell_type": "code",
   "execution_count": 9,
   "id": "73dd2bb3",
   "metadata": {},
   "outputs": [
    {
     "data": {
      "text/plain": [
       "torch.Size([4, 3, 32, 224, 224])"
      ]
     },
     "execution_count": 9,
     "metadata": {},
     "output_type": "execute_result"
    }
   ],
   "source": [
    "mixed_imgs.shape"
   ]
  },
  {
   "cell_type": "markdown",
   "id": "b2de8a62",
   "metadata": {},
   "source": [
    "## Scrambmix"
   ]
  },
  {
   "cell_type": "code",
   "execution_count": null,
   "id": "4cd20737",
   "metadata": {},
   "outputs": [],
   "source": [
    "A = imgs['rgb'][0]\n",
    "B = imgs['rgb'][1]"
   ]
  }
 ],
 "metadata": {
  "kernelspec": {
   "display_name": "mmsign",
   "language": "python",
   "name": "mmsign"
  },
  "language_info": {
   "codemirror_mode": {
    "name": "ipython",
    "version": 3
   },
   "file_extension": ".py",
   "mimetype": "text/x-python",
   "name": "python",
   "nbconvert_exporter": "python",
   "pygments_lexer": "ipython3",
   "version": "3.8.17"
  }
 },
 "nbformat": 4,
 "nbformat_minor": 5
}
