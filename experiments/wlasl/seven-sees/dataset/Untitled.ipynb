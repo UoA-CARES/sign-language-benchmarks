{
 "cells": [
  {
   "cell_type": "code",
   "execution_count": 1,
   "id": "c27df7e1",
   "metadata": {},
   "outputs": [],
   "source": [
    "from dataset import MultiModalDataset"
   ]
  },
  {
   "cell_type": "code",
   "execution_count": 2,
   "id": "cdddf180",
   "metadata": {},
   "outputs": [],
   "source": [
    "dataset = MultiModalDataset(ann_file = '../data/rawframes/annotations.txt',\n",
    "                            root_dir = '../data/rawframes/test/',\n",
    "                            clip_len=32,\n",
    "                            frame_interval=2,\n",
    "                            num_clips=1)"
   ]
  },
  {
   "cell_type": "code",
   "execution_count": 3,
   "id": "9acd4d22",
   "metadata": {},
   "outputs": [
    {
     "name": "stdout",
     "output_type": "stream",
     "text": [
      "HEY!\n",
      "HEY!\n",
      "HEY!\n",
      "HEY!\n",
      "HEY!\n",
      "HEY!\n",
      "HEY!\n",
      "HEY!\n",
      "HEY!\n",
      "HEY!\n",
      "HEY!\n",
      "HEY!\n",
      "HEY!\n",
      "HEY!\n",
      "HEY!\n",
      "HEY!\n",
      "HEY!\n",
      "HEY!\n",
      "HEY!\n",
      "HEY!\n",
      "HEY!\n",
      "HEY!\n",
      "HEY!\n",
      "HEY!\n",
      "HEY!\n",
      "HEY!\n",
      "HEY!\n",
      "HEY!\n",
      "HEY!\n",
      "HEY!\n",
      "HEY!\n"
     ]
    }
   ],
   "source": [
    "x = dataset.load_video(0)"
   ]
  },
  {
   "cell_type": "code",
   "execution_count": 4,
   "id": "be3072ad",
   "metadata": {},
   "outputs": [
    {
     "data": {
      "text/plain": [
       "dict"
      ]
     },
     "execution_count": 4,
     "metadata": {},
     "output_type": "execute_result"
    }
   ],
   "source": [
    "type(x)"
   ]
  },
  {
   "cell_type": "code",
   "execution_count": 5,
   "id": "4bfe2f61",
   "metadata": {},
   "outputs": [
    {
     "data": {
      "text/plain": [
       "dict_keys(['video_path', 'start_index', 'total_frames', 'label', 'frame_inds', 'clip_len', 'frame_interval', 'num_clips', 'rgb', 'flow', 'depth', 'pose'])"
      ]
     },
     "execution_count": 5,
     "metadata": {},
     "output_type": "execute_result"
    }
   ],
   "source": [
    "x.keys()"
   ]
  },
  {
   "cell_type": "code",
   "execution_count": 10,
   "id": "f719b077",
   "metadata": {},
   "outputs": [
    {
     "data": {
      "text/plain": [
       "32"
      ]
     },
     "execution_count": 10,
     "metadata": {},
     "output_type": "execute_result"
    }
   ],
   "source": [
    "len(x['pose'])"
   ]
  },
  {
   "cell_type": "code",
   "execution_count": 11,
   "id": "2f06db2e",
   "metadata": {},
   "outputs": [
    {
     "data": {
      "text/plain": [
       "True"
      ]
     },
     "execution_count": 11,
     "metadata": {},
     "output_type": "execute_result"
    }
   ],
   "source": [
    "x['pose'][0] == x['pose'][0]"
   ]
  }
 ],
 "metadata": {
  "kernelspec": {
   "display_name": "Python (wlasl)",
   "language": "python",
   "name": "wlasl"
  },
  "language_info": {
   "codemirror_mode": {
    "name": "ipython",
    "version": 3
   },
   "file_extension": ".py",
   "mimetype": "text/x-python",
   "name": "python",
   "nbconvert_exporter": "python",
   "pygments_lexer": "ipython3",
   "version": "3.8.15"
  }
 },
 "nbformat": 4,
 "nbformat_minor": 5
}
